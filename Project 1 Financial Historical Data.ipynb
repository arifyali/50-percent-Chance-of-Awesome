{
 "cells": [
  {
   "cell_type": "code",
   "execution_count": 1,
   "metadata": {
    "collapsed": false
   },
   "outputs": [],
   "source": [
    "import json\n",
    "import requests\n",
    "import urllib2\n",
    "import pandas\n",
    "import csv"
   ]
  },
  {
   "cell_type": "code",
   "execution_count": 2,
   "metadata": {
    "collapsed": false
   },
   "outputs": [],
   "source": [
    "dJIndustial = pandas.read_csv(\"dowjonesIA.csv\")\n",
    "dJIndustialTickers = (dJIndustial['Ticker']).tolist()"
   ]
  },
  {
   "cell_type": "code",
   "execution_count": 3,
   "metadata": {
    "collapsed": false
   },
   "outputs": [],
   "source": [
    "url = 'https://www.quandl.com/api/v3/datasets/YAHOO/'+dJIndustialTickers[0]+'.csv?api_key=p3bC2cMj_FbQGSDDjs4y'\n",
    "data = pandas.read_csv(url)\n",
    "data['ticker'] = dJIndustialTickers[0] "
   ]
  },
  {
   "cell_type": "code",
   "execution_count": 4,
   "metadata": {
    "collapsed": false
   },
   "outputs": [],
   "source": [
    "for ticker in dJIndustialTickers[1:]:\n",
    "    url = 'https://www.quandl.com/api/v3/datasets/YAHOO/'+ticker+'.csv?api_key=p3bC2cMj_FbQGSDDjs4y'\n",
    "    company = pandas.read_csv(url)\n",
    "    company['ticker'] = ticker \n",
    "    data = data.append(company)"
   ]
  },
  {
   "cell_type": "code",
   "execution_count": 5,
   "metadata": {
    "collapsed": false
   },
   "outputs": [],
   "source": [
    "data.to_csv(\"dJIndustialHistoricalData.csv\")"
   ]
  },
  {
   "cell_type": "code",
   "execution_count": 6,
   "metadata": {
    "collapsed": false
   },
   "outputs": [],
   "source": [
    "sNP500 = pandas.read_csv(\"SP500.csv\")\n",
    "sNP500Tickers = sNP500['Ticker']\n",
    "sNP500Sector = sNP500['Sector']"
   ]
  },
  {
   "cell_type": "code",
   "execution_count": 7,
   "metadata": {
    "collapsed": false
   },
   "outputs": [],
   "source": [
    "#did sNP500Tickers[0] first\n",
    "url = 'https://www.quandl.com/api/v3/datasets/YAHOO/'+sNP500Tickers[0]+'.csv?api_key=p3bC2cMj_FbQGSDDjs4y'\n",
    "data = pandas.read_csv(url)\n",
    "data['ticker'] = sNP500Tickers[0] \n",
    "data['Sector'] = sNP500Sector[0] "
   ]
  },
  {
   "cell_type": "code",
   "execution_count": 8,
   "metadata": {
    "collapsed": false
   },
   "outputs": [],
   "source": [
    "for i in range(1, 250):\n",
    "    url = 'https://www.quandl.com/api/v3/datasets/YAHOO/'+sNP500Tickers[i]+'.csv?api_key=p3bC2cMj_FbQGSDDjs4y'\n",
    "    try:\n",
    "        company = pandas.read_csv(url)\n",
    "        company['ticker'] = sNP500Tickers[i] \n",
    "        company['Sector'] = sNP500Sector[i] \n",
    "        data = data.append(company)\n",
    "    except:\n",
    "        print(sNP500Tickers[i])"
   ]
  },
  {
   "cell_type": "code",
   "execution_count": 9,
   "metadata": {
    "collapsed": true
   },
   "outputs": [],
   "source": [
    "data.to_csv(\"SP500HistoricalDataPart1.csv\")"
   ]
  },
  {
   "cell_type": "code",
   "execution_count": 10,
   "metadata": {
    "collapsed": false
   },
   "outputs": [],
   "source": [
    "url = 'https://www.quandl.com/api/v3/datasets/YAHOO/'+sNP500Tickers[250]+'.csv?api_key=p3bC2cMj_FbQGSDDjs4y'\n",
    "data = pandas.read_csv(url)\n",
    "data['ticker'] = sNP500Tickers[0] \n",
    "data['Sector'] = sNP500Sector[0] "
   ]
  },
  {
   "cell_type": "code",
   "execution_count": 19,
   "metadata": {
    "collapsed": false
   },
   "outputs": [
    {
     "name": "stdout",
     "output_type": "stream",
     "text": [
      "NAVI\n"
     ]
    }
   ],
   "source": [
    "for i in range(251, (len(sNP500)-1)):\n",
    "    url = 'https://www.quandl.com/api/v3/datasets/YAHOO/'+sNP500Tickers[i]+'.csv?api_key=p3bC2cMj_FbQGSDDjs4y'\n",
    "    try:\n",
    "        company = pandas.read_csv(url)\n",
    "        company['ticker'] = sNP500Tickers[i] \n",
    "        company['Sector'] = sNP500Sector[i] \n",
    "        data = data.append(company)\n",
    "    except:\n",
    "        print(sNP500Tickers[i])"
   ]
  },
  {
   "cell_type": "code",
   "execution_count": 20,
   "metadata": {
    "collapsed": false
   },
   "outputs": [],
   "source": [
    "data.to_csv(\"SP500HistoricalDataPart2.csv\")"
   ]
  },
  {
   "cell_type": "code",
   "execution_count": 27,
   "metadata": {
    "collapsed": false
   },
   "outputs": [],
   "source": [
    "#For The NASDAQ Financial 100 Index, I found a list of certain stocks from as of 10/12/15\n",
    "#https://indexes.nasdaqomx.com/Index/Weighting/IXF\n"
   ]
  },
  {
   "cell_type": "code",
   "execution_count": null,
   "metadata": {
    "collapsed": false
   },
   "outputs": [],
   "source": [
    "#For The NASDAQ Biotechnology Index, I found a list of certain stocks from as of 10/12/15\n",
    "#https://indexes.nasdaqomx.com/Index/Weighting/NBI"
   ]
  }
 ],
 "metadata": {
  "kernelspec": {
   "display_name": "Python 2",
   "language": "python",
   "name": "python2"
  },
  "language_info": {
   "codemirror_mode": {
    "name": "ipython",
    "version": 2
   },
   "file_extension": ".py",
   "mimetype": "text/x-python",
   "name": "python",
   "nbconvert_exporter": "python",
   "pygments_lexer": "ipython2",
   "version": "2.7.9"
  }
 },
 "nbformat": 4,
 "nbformat_minor": 0
}
