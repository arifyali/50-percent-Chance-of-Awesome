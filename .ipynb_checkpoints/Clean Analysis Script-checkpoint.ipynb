{
 "cells": [
  {
   "cell_type": "code",
   "execution_count": 4,
   "metadata": {
    "collapsed": false
   },
   "outputs": [],
   "source": [
    "# In accordance with the class policies and Georgetown's Honor Code,\n",
    "# I certify that, with the exceptions of the lecture notes and those\n",
    "# items noted below, this work is my own. I know that I can speak to\n",
    "# others about my code, but I cannot share the code itself.\n",
    "# If I received any help, I have noted it\n",
    "\n",
    "import pandas\n",
    "import numpy as np\n",
    "\n",
    "outPutLog = pandas.DataFrame(index = ['file', 'score'])\n",
    "outPutLog = outPutLog.transpose()\n",
    "#import enchant\n",
    "def textUncleanCounter(column):\n",
    "    count = 0\n",
    "    for words in column:\n",
    "        #found way to count upper case via this stackoverflow post\n",
    "        #http://stackoverflow.com/questions/18129830/count-the-uppercase-letters-in-a-string\n",
    "        #compared number of upper case to\n",
    "        #print(words)\n",
    "        #is.nan doesn't work for strings so I have to handle it in here\n",
    "        #http://stackoverflow.com/questions/4843173/how-to-check-if-type-of-a-variable-is-string-in-python\n",
    "        #used same logic for isinstance when dealing with unicode stuff.\n",
    "        #Notable issues are that sometimes abbreviations aren't capitalized, I consider this an error because it\n",
    "        #will affect merging.\n",
    "        if(isinstance(words, str) or isinstance(words, unicode)):\n",
    "            if(sum(1 for c in words if c.isupper()) == len(words.split())):\n",
    "                count += 0\n",
    "            else:\n",
    "                count += 1\n",
    "        else:\n",
    "            #print(words)\n",
    "            if(np.isnan(words)):\n",
    "                count += 1\n",
    "            else:\n",
    "                count += 0\n",
    "    return(count)\n"
   ]
  },
  {
   "cell_type": "code",
   "execution_count": 5,
   "metadata": {
    "collapsed": false
   },
   "outputs": [],
   "source": [
    "def cleaniness(filePath, csv = True, sheet = 2):\n",
    "    missingData = 0\n",
    "    outliers = 0\n",
    "    if(csv):\n",
    "        data = pandas.read_csv(filePath)\n",
    "    else:\n",
    "        #FEC data we had was in XLS format, so we had to figure out how to import XLS data \n",
    "        #http://pandas.pydata.org/pandas-docs/stable/generated/pandas.ExcelFile.parse.html\n",
    "        data = pandas.ExcelFile(filePath)\n",
    "        data = data.parse(data.sheet_names[sheet-1])\n",
    "    for column in data.columns:\n",
    "        print(column)\n",
    "        summary = data[column].describe()\n",
    "        missing = ((data[column].isnull().sum() + textUncleanCounter(data[column])))\n",
    "        #print(missing)\n",
    "        missingData += missing\n",
    "        if(data[column].dtype == 'float64' or data[column].dtype == 'int64'):\n",
    "            outlier = sum(abs(data[column]-data[column].mean())>3*data[column].std())\n",
    "            outliers += outlier\n",
    "        else:\n",
    "            outliers += 0\n",
    "    #print(outliers)\n",
    "    #print(missingData)\n",
    "    ##Fixing the float was a pain, but good reminder that int and float do different things\n",
    "    score = 1-float(outliers+missingData)/(2*data.shape[0]*data.shape[1])\n",
    "    T = pandas.DataFrame(data = [filePath, score] ,index = ['file', 'score'])\n",
    "    T = T.transpose()\n",
    "    #print(T)\n",
    "    return(T)"
   ]
  },
  {
   "cell_type": "code",
   "execution_count": 6,
   "metadata": {
    "collapsed": false
   },
   "outputs": [
    {
     "name": "stdout",
     "output_type": "stream",
     "text": [
      "Unnamed: 0\n",
      "Date\n",
      "Open\n",
      "High\n",
      "Low\n",
      "Close\n",
      "Volume\n",
      "Adjusted Close\n",
      "ticker\n",
      "Sector\n",
      "price change\n",
      "percentage change\n",
      "Opening Total Value\n",
      "Closing Total Value\n"
     ]
    }
   ],
   "source": [
    "outPutLog = outPutLog.append(cleaniness(\"SP500HistoricalDataPart1.csv\"))\n"
   ]
  },
  {
   "cell_type": "code",
   "execution_count": 7,
   "metadata": {
    "collapsed": false
   },
   "outputs": [
    {
     "name": "stdout",
     "output_type": "stream",
     "text": [
      "Unnamed: 0\n",
      "Date\n",
      "Open\n",
      "High\n",
      "Low\n",
      "Close\n",
      "Volume\n",
      "Adjusted Close\n",
      "ticker\n",
      "Sector\n",
      "price change\n",
      "percentage change\n",
      "Opening Total Value\n",
      "Closing Total Value\n",
      "                           file      score\n",
      "0  SP500HistoricalDataPart1.csv  0.9271537\n",
      "0  SP500HistoricalDataPart2.csv  0.9255856\n"
     ]
    }
   ],
   "source": [
    "outPutLog = outPutLog.append(cleaniness(\"SP500HistoricalDataPart2.csv\"))\n",
    "print(outPutLog)"
   ]
  },
  {
   "cell_type": "code",
   "execution_count": 8,
   "metadata": {
    "collapsed": false
   },
   "outputs": [
    {
     "name": "stdout",
     "output_type": "stream",
     "text": [
      "Unnamed: 0\n",
      "Date\n",
      "Open\n",
      "High\n",
      "Low\n",
      "Close\n",
      "Volume\n",
      "Adjusted Close\n",
      "ticker\n"
     ]
    }
   ],
   "source": [
    "outPutLog = outPutLog.append(cleaniness(\"dJIndustialHistoricalData.csv\"))\n",
    "#outPutLog.to_csv(\"OutputLog.csv\")"
   ]
  },
  {
   "cell_type": "code",
   "execution_count": 9,
   "metadata": {
    "collapsed": false
   },
   "outputs": [
    {
     "name": "stdout",
     "output_type": "stream",
     "text": [
      "Date\n",
      "Open\n",
      "High\n",
      "Low\n",
      "Close\n",
      "Volume\n",
      "Adjusted Close\n"
     ]
    }
   ],
   "source": [
    "outPutLog = outPutLog.append(cleaniness(\"Sector base Indices/CBOE Gold Index.csv\"))\n",
    "#outPutLog.to_csv(\"OutputLog.csv\")           "
   ]
  },
  {
   "cell_type": "code",
   "execution_count": 10,
   "metadata": {
    "collapsed": false
   },
   "outputs": [
    {
     "name": "stdout",
     "output_type": "stream",
     "text": [
      "Trade Date\n",
      "Index Value\n",
      "High\n",
      "Low\n",
      "Total Market Value\n",
      "Dividend Market Value\n"
     ]
    }
   ],
   "source": [
    "outPutLog = outPutLog.append(cleaniness(\"Sector base Indices/NASDAQ Banking Index.csv\"))\n",
    "#outPutLog.to_csv(\"OutputLog.csv\")"
   ]
  },
  {
   "cell_type": "code",
   "execution_count": 11,
   "metadata": {
    "collapsed": false
   },
   "outputs": [
    {
     "name": "stdout",
     "output_type": "stream",
     "text": [
      "Date\n",
      "Open\n",
      "High\n",
      "Low\n",
      "Close\n",
      "Volume\n",
      "Adjusted Close\n"
     ]
    }
   ],
   "source": [
    "outPutLog = outPutLog.append(cleaniness(\"Sector base Indices/NASDAQ Biotechnology Index.csv\"))\n",
    "#outputLog.to_csv(\"OutputLog.csv\")"
   ]
  },
  {
   "cell_type": "code",
   "execution_count": 12,
   "metadata": {
    "collapsed": false
   },
   "outputs": [
    {
     "name": "stdout",
     "output_type": "stream",
     "text": [
      "Trade Date\n",
      "Index Value\n",
      "High\n",
      "Low\n",
      "Total Market Value\n",
      "Dividend Market Value\n"
     ]
    }
   ],
   "source": [
    "outPutLog = outPutLog.append(cleaniness(\"Sector base Indices/NASDAQ Industrial Index.csv\"))\n",
    "#outputLog.to_csv(\"OutputLog.csv\")"
   ]
  },
  {
   "cell_type": "code",
   "execution_count": 13,
   "metadata": {
    "collapsed": false
   },
   "outputs": [
    {
     "name": "stdout",
     "output_type": "stream",
     "text": [
      "Date\n",
      "Open\n",
      "High\n",
      "Low\n",
      "Close\n",
      "Volume\n",
      "Adjusted Close\n"
     ]
    }
   ],
   "source": [
    "outPutLog = outPutLog.append(cleaniness(\"Sector base Indices/NYSE AMEX Oil Index.csv\"))"
   ]
  },
  {
   "cell_type": "code",
   "execution_count": 14,
   "metadata": {
    "collapsed": true
   },
   "outputs": [],
   "source": [
    "#NaN were messing up the basic analysis, so I had replaces them with zeros\n",
    "# I found out how from the pandas developer site\n",
    "#http://pandas.pydata.org/pandas-docs/stable/missing_data.html\n",
    "nytimesTemp = pandas.read_csv(\"NYTimes2014elections.csv\").fillna('00')"
   ]
  },
  {
   "cell_type": "code",
   "execution_count": 15,
   "metadata": {
    "collapsed": false
   },
   "outputs": [],
   "source": [
    "#In order to actually evaluate the Nytimes I had to make changes to understand numeric data that was pulled as string\n",
    "#had to remove percentage sign from VotePercent columns\n",
    "#http://stackoverflow.com/questions/3559559/how-to-delete-a-character-from-a-string-using-python\n",
    "def floatConverter(column, percentSign = True): #If no percent sign then there is a comma\n",
    "    oldstr = column\n",
    "    #print(oldstr[10])\n",
    "    data = []\n",
    "    for cell in oldstr:\n",
    "        if(percentSign):\n",
    "            cellNoPercent = (cell[:-1])\n",
    "        else:\n",
    "            cellNoPercent = cell.replace(\",\", \"\")\n",
    "            #If there wasn't percent then they were whole numbers, many of which had \n",
    "        data.append(cellNoPercent)\n",
    "    #Iterating and changing to floats wasnt working, so I found a method to do it to a list post cleaning        \n",
    "    #http://stackoverflow.com/questions/4004550/converting-string-series-to-float-list-in-python\n",
    "    \n",
    "    return([float(x) for x in data])    \n",
    "    \n",
    "nytimesTemp['VotePercent1'] = floatConverter(nytimesTemp['VotePercent1'])\n",
    "nytimesTemp['VotePercent2'] = floatConverter(nytimesTemp['VotePercent2'])\n",
    "nytimesTemp['VotePercent3'] = floatConverter(nytimesTemp['VotePercent3'])\n",
    "nytimesTemp['VotePercent4'] = floatConverter(nytimesTemp['VotePercent4'])\n",
    "nytimesTemp['VotePercent5'] = floatConverter(nytimesTemp['VotePercent5'])\n",
    "nytimesTemp['VotePercent6'] = floatConverter(nytimesTemp['VotePercent6'])\n",
    "nytimesTemp['VotePercent7'] = floatConverter(nytimesTemp['VotePercent7'])\n",
    "nytimesTemp['VotePercent8'] = floatConverter(nytimesTemp['VotePercent8'])\n",
    "nytimesTemp['VotePercent9'] = floatConverter(nytimesTemp['VotePercent9'])\n",
    "nytimesTemp['VotePercent10'] = floatConverter(nytimesTemp['VotePercent10'])\n",
    "nytimesTemp['VotePercent11'] = floatConverter(nytimesTemp['VotePercent11'])\n",
    "nytimesTemp['VotePercent12'] = floatConverter(nytimesTemp['VotePercent12'])"
   ]
  },
  {
   "cell_type": "code",
   "execution_count": 16,
   "metadata": {
    "collapsed": false
   },
   "outputs": [],
   "source": [
    "nytimesTemp['Votes1'] = floatConverter(nytimesTemp['Votes1'],percentSign = False)\n",
    "nytimesTemp['Votes2'] = floatConverter(nytimesTemp['Votes2'],percentSign = False)\n",
    "nytimesTemp['Votes3'] = floatConverter(nytimesTemp['Votes3'],percentSign = False)\n",
    "nytimesTemp['Votes4'] = floatConverter(nytimesTemp['Votes4'],percentSign = False)\n",
    "nytimesTemp['Votes5'] = floatConverter(nytimesTemp['Votes5'],percentSign = False)\n",
    "nytimesTemp['Votes6'] = floatConverter(nytimesTemp['Votes6'],percentSign = False)\n",
    "nytimesTemp['Votes7'] = floatConverter(nytimesTemp['Votes7'],percentSign = False)\n",
    "nytimesTemp['Votes8'] = floatConverter(nytimesTemp['Votes8'],percentSign = False)\n",
    "nytimesTemp['Votes9'] = floatConverter(nytimesTemp['Votes9'],percentSign = False)\n",
    "nytimesTemp['Votes10'] = floatConverter(nytimesTemp['Votes10'],percentSign = False)\n",
    "nytimesTemp['Votes11'] = floatConverter(nytimesTemp['Votes11'],percentSign = False)\n",
    "nytimesTemp['Votes12'] = floatConverter(nytimesTemp['Votes12'],percentSign = False)"
   ]
  },
  {
   "cell_type": "code",
   "execution_count": 17,
   "metadata": {
    "collapsed": false
   },
   "outputs": [],
   "source": [
    "nytimesTemp = nytimesTemp.replace('0', np.nan)\n",
    "nytimesTemp = nytimesTemp.replace('00', np.nan)\n",
    "nytimesTemp = nytimesTemp.replace(0, np.nan)\n",
    "nytimesTemp.to_csv(\"nytimesTemps.csv\")"
   ]
  },
  {
   "cell_type": "code",
   "execution_count": 18,
   "metadata": {
    "collapsed": false
   },
   "outputs": [
    {
     "name": "stdout",
     "output_type": "stream",
     "text": [
      "Unnamed: 0\n",
      "State\n",
      "CongressionalMembership\n",
      "Candidate1\n",
      "PartyAffiliation1\n",
      "Votes1\n",
      "VotePercent1\n",
      "Candidate2\n",
      "PartyAffiliation2\n",
      "Votes2\n",
      "VotePercent2\n",
      "Candidate3\n",
      "PartyAffiliation3\n",
      "Votes3\n",
      "VotePercent3\n",
      "Candidate4\n",
      "PartyAffiliation4\n",
      "Votes4\n",
      "VotePercent4\n",
      "Candidate5\n",
      "PartyAffiliation5\n",
      "Votes5\n",
      "VotePercent5\n",
      "Candidate6\n",
      "PartyAffiliation6\n",
      "Votes6\n",
      "VotePercent6\n",
      "Candidate7\n",
      "PartyAffiliation7\n",
      "Votes7\n",
      "VotePercent7\n",
      "Candidate8\n",
      "PartyAffiliation8\n",
      "Votes8\n",
      "VotePercent8\n",
      "Candidate9\n",
      "PartyAffiliation9\n",
      "Votes9\n",
      "VotePercent9\n",
      "Candidate10\n",
      "PartyAffiliation10\n",
      "Votes10\n",
      "VotePercent10\n",
      "Candidate11\n",
      "PartyAffiliation11\n",
      "Votes11\n",
      "VotePercent11\n",
      "Candidate12\n",
      "PartyAffiliation12\n",
      "Votes12\n",
      "VotePercent12\n"
     ]
    }
   ],
   "source": [
    "outPutLog = outPutLog.append(cleaniness(\"nytimesTemps.csv\"))"
   ]
  },
  {
   "cell_type": "code",
   "execution_count": 19,
   "metadata": {
    "collapsed": false
   },
   "outputs": [
    {
     "name": "stdout",
     "output_type": "stream",
     "text": [
      "#\n",
      "STATE\n",
      "STATE ABBREVIATION\n",
      "DISTRICT\n",
      "FEC ID\n",
      "INCUMBENT INDICATOR\n",
      "FIRST NAME\n",
      "LAST NAME\n",
      "LAST NAME, FIRST\n",
      "TOTAL VOTES\n",
      "PARTY\n",
      "PRIMARY\n",
      "PRIMARY %\n",
      "RUNOFF\n",
      "RUNOFF %\n",
      "GENERAL\n",
      "GENERAL %\n",
      "GE RUNOFF\n",
      "GE RUNOFF %\n",
      "Notes (See Endnotes Tab)\n"
     ]
    }
   ],
   "source": [
    "outPutLog = outPutLog.append(cleaniness(\"FEC Elections Data/2004congresults.xls\", csv = False, sheet = 2))"
   ]
  },
  {
   "cell_type": "code",
   "execution_count": 20,
   "metadata": {
    "collapsed": false
   },
   "outputs": [
    {
     "name": "stdout",
     "output_type": "stream",
     "text": [
      "#\n",
      "STATE\n",
      "STATE ABBREVIATION\n",
      "DISTRICT\n",
      "FEC ID\n",
      "INCUMBENT INDICATOR\n",
      "FIRST NAME\n",
      "LAST NAME\n",
      "LAST NAME, FIRST\n",
      "TOTAL VOTES\n",
      "PARTY\n",
      "PRIMARY\n",
      "PRIMARY %\n",
      "RUNOFF\n",
      "RUNOFF %\n",
      "GENERAL\n",
      "GENERAL %\n",
      "GE RUNOFF\n",
      "GE RUNOFF %\n",
      "COMBINED GE PARTY TOTALS (NY, SC)\n",
      "COMBINED % (NY, SC)\n",
      "Notes (See Endnotes Tab)\n"
     ]
    }
   ],
   "source": [
    "outPutLog = outPutLog.append(cleaniness(\"FEC Elections Data/results06.xls\", csv = False, sheet = 2))"
   ]
  },
  {
   "cell_type": "code",
   "execution_count": 21,
   "metadata": {
    "collapsed": false
   },
   "outputs": [
    {
     "name": "stdout",
     "output_type": "stream",
     "text": [
      "1.0\n",
      "STATE\n",
      "STATE ABBREVIATION\n",
      "DISTRICT\n",
      "FEC ID#\n",
      "INCUMBENT INDICATOR (I)\n",
      "CANDIDATE NAME (First)\n",
      "Candidate Name (Last)\n",
      "CANDIDATE NAME\n",
      "TOTAL VOTES\n",
      "PARTY\n",
      "PRIMARY\n",
      "PRIMARY %\n",
      "RUNOFF\n",
      "RUNOFF %\n",
      "GENERAL \n",
      "GENERAL %\n",
      "GE RUNOFF\n",
      "GE RUNOFF %\n",
      "COMBINED GE PARTY TOTALS (CT, NY)\n",
      "COMBINED % (CT, NY)\n",
      "FOOTNOTES\n"
     ]
    }
   ],
   "source": [
    "outPutLog = outPutLog.append(cleaniness(\"FEC Elections Data/2008congresults.xls\", csv = False, sheet = 2))"
   ]
  },
  {
   "cell_type": "code",
   "execution_count": 22,
   "metadata": {
    "collapsed": false
   },
   "outputs": [
    {
     "name": "stdout",
     "output_type": "stream",
     "text": [
      "1.0\n",
      "STATE\n",
      "STATE ABBREVIATION\n",
      "DISTRICT\n",
      "FEC ID#\n",
      "INCUMBENT INDICATOR (I)\n",
      "CANDIDATE NAME (First)\n",
      "CANDIDATE NAME (Last)\n",
      "CANDIDATE NAME (Last, First)\n",
      "TOTAL VOTES\n",
      "PARTY\n",
      "PRIMARY\n",
      "PRIMARY %\n",
      "RUNOFF\n",
      "RUNOFF %\n",
      "GENERAL \n",
      "GENERAL %\n",
      "COMBINED GE PARTY TOTALS (CT, NY, SC)\n",
      "COMBINED % (CT, NY, SC)\n",
      "FOOTNOTES\n",
      "Unnamed: 20\n"
     ]
    }
   ],
   "source": [
    "outPutLog = outPutLog.append(cleaniness(\"FEC Elections Data/results10.xls\", csv = False, sheet = 2))"
   ]
  },
  {
   "cell_type": "code",
   "execution_count": 23,
   "metadata": {
    "collapsed": false
   },
   "outputs": [
    {
     "name": "stdout",
     "output_type": "stream",
     "text": [
      "2012 VOTES CAST FOR THE U.S. HOUSE OF REPRESENTATIVES BY PARTY\n",
      "Unnamed: 1\n",
      "Unnamed: 2\n",
      "Unnamed: 3\n",
      "Unnamed: 4\n",
      "Unnamed: 5\n",
      "Unnamed: 6\n"
     ]
    }
   ],
   "source": [
    "outPutLog = outPutLog.append(cleaniness(\"FEC Elections Data/2012congresults.xls\", csv = False, sheet = 4))"
   ]
  },
  {
   "cell_type": "code",
   "execution_count": 24,
   "metadata": {
    "collapsed": false
   },
   "outputs": [
    {
     "name": "stdout",
     "output_type": "stream",
     "text": [
      "Unnamed: 0\n",
      "CID\n",
      "Name\n",
      "Party\n",
      "Cycle\n",
      "Industry\n",
      "Industry Code\n",
      "Total\n",
      "PACs\n",
      "Individuals\n",
      "Origin\n",
      "Last Updated\n",
      "Source\n",
      "industrypercent\n",
      "candtotal\n"
     ]
    }
   ],
   "source": [
    "outPutLog = outPutLog.append(cleaniness(\"Contributions by Industry 2012-2014.csv\"))"
   ]
  },
  {
   "cell_type": "code",
   "execution_count": 25,
   "metadata": {
    "collapsed": false
   },
   "outputs": [
    {
     "name": "stdout",
     "output_type": "stream",
     "text": [
      "State\n",
      "District\n",
      "Year\n",
      "Candidate\n",
      "Industry\n",
      "Amount\n"
     ]
    }
   ],
   "source": [
    "outPutLog = outPutLog.append(cleaniness(\"opensecret/fundingCongress.csv\"))"
   ]
  },
  {
   "cell_type": "code",
   "execution_count": 26,
   "metadata": {
    "collapsed": true
   },
   "outputs": [],
   "source": [
    "outPutLog.to_csv(\"Cleaning Analysis output.csv\")"
   ]
  }
 ],
 "metadata": {
  "kernelspec": {
   "display_name": "Python 2",
   "language": "python",
   "name": "python2"
  },
  "language_info": {
   "codemirror_mode": {
    "name": "ipython",
    "version": 2
   },
   "file_extension": ".py",
   "mimetype": "text/x-python",
   "name": "python",
   "nbconvert_exporter": "python",
   "pygments_lexer": "ipython2",
   "version": "2.7.9"
  }
 },
 "nbformat": 4,
 "nbformat_minor": 0
}
