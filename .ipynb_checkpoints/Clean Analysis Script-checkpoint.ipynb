{
 "cells": [
  {
   "cell_type": "code",
   "execution_count": 143,
   "metadata": {
    "collapsed": false
   },
   "outputs": [],
   "source": [
    "import pandas\n",
    "import numpy as np\n",
    "\n",
    "outputLog = pandas.DataFrame(index = ['file', 'column', \"data type\", 'summary', 'missing values'])\n",
    "outputLog = outputLog.transpose()"
   ]
  },
  {
   "cell_type": "code",
   "execution_count": 144,
   "metadata": {
    "collapsed": false
   },
   "outputs": [],
   "source": [
    "def cleaniness(filePath, outputLog, csv = True):\n",
    "    T = outputLog\n",
    "    if(csv):\n",
    "        data = pandas.read_csv(filePath)\n",
    "    else:\n",
    "        data = pandas.read_table(filePath)\n",
    "    data.count(axis = 1)\n",
    "    for column in data.columns:\n",
    "        #Pandas sets missing values to nan so I found an answer on a stackexchange post\n",
    "        #http://stackoverflow.com/questions/26266362/how-to-count-the-nan-values-in-the-column-in-panda-data-frame\n",
    "        summary = data[column].describe()\n",
    "        missingValue = data[column].isnull().sum()/len(data[column])\n",
    "        columndata = (pandas.DataFrame(data = [filePath, column,data[column].dtype, summary, missingValue],index = ['file', 'column',\"data type\", 'summary', 'missing values']))\n",
    "        T = T.append(columndata.transpose())\n",
    "    return(T)"
   ]
  },
  {
   "cell_type": "code",
   "execution_count": 148,
   "metadata": {
    "collapsed": false
   },
   "outputs": [],
   "source": [
    "outputLog = outputLog.append(cleaniness(\"SP500HistoricalDataPart1.csv\", outputLog))\n",
    "outputLog.to_csv(\"OutputLog.csv\")"
   ]
  },
  {
   "cell_type": "code",
   "execution_count": 149,
   "metadata": {
    "collapsed": false
   },
   "outputs": [],
   "source": [
    "outputLog = outputLog.append(cleaniness(\"SP500HistoricalDataPart2.csv\", outputLog))\n",
    "outputLog.to_csv(\"OutputLog.csv\")"
   ]
  },
  {
   "cell_type": "code",
   "execution_count": 142,
   "metadata": {
    "collapsed": false
   },
   "outputs": [],
   "source": [
    "outputLog = outputLog.append(cleaniness(\"dJIndustialHistoricalData.csv\", outputLog))\n",
    "outputLog.to_csv(\"OutputLog.csv\")"
   ]
  },
  {
   "cell_type": "code",
   "execution_count": 128,
   "metadata": {
    "collapsed": false
   },
   "outputs": [],
   "source": [
    "outputLog = outputLog.append(cleaniness(\"Sector base Indices/CBOE Gold Index.csv\", outputLog))\n",
    "outputLog.to_csv(\"OutputLog.csv\")           "
   ]
  },
  {
   "cell_type": "code",
   "execution_count": 129,
   "metadata": {
    "collapsed": false
   },
   "outputs": [],
   "source": [
    "outputLog = outputLog.append(cleaniness(\"Sector base Indices/NASDAQ Banking Index.csv\", outputLog))\n",
    "outputLog.to_csv(\"OutputLog.csv\")"
   ]
  },
  {
   "cell_type": "code",
   "execution_count": 130,
   "metadata": {
    "collapsed": false
   },
   "outputs": [],
   "source": [
    "outputLog = outputLog.append(cleaniness(\"Sector base Indices/NASDAQ Biotechnology Index.csv\", outputLog))\n",
    "outputLog.to_csv(\"OutputLog.csv\")"
   ]
  },
  {
   "cell_type": "code",
   "execution_count": 131,
   "metadata": {
    "collapsed": false
   },
   "outputs": [],
   "source": [
    "outputLog = outputLog.append(cleaniness(\"Sector base Indices/NASDAQ Industrial Index.csv\", outputLog))\n",
    "outputLog.to_csv(\"OutputLog.csv\")"
   ]
  },
  {
   "cell_type": "code",
   "execution_count": 132,
   "metadata": {
    "collapsed": false
   },
   "outputs": [],
   "source": [
    "outputLog = outputLog.append(cleaniness(\"Sector base Indices/NYSE AMEX Oil Index.csv\", outputLog))\n",
    "outputLog.to_csv(\"OutputLog.csv\")"
   ]
  },
  {
   "cell_type": "code",
   "execution_count": null,
   "metadata": {
    "collapsed": false
   },
   "outputs": [],
   "source": []
  },
  {
   "cell_type": "code",
   "execution_count": null,
   "metadata": {
    "collapsed": false
   },
   "outputs": [],
   "source": []
  }
 ],
 "metadata": {
  "kernelspec": {
   "display_name": "Python 2",
   "language": "python",
   "name": "python2"
  },
  "language_info": {
   "codemirror_mode": {
    "name": "ipython",
    "version": 2
   },
   "file_extension": ".py",
   "mimetype": "text/x-python",
   "name": "python",
   "nbconvert_exporter": "python",
   "pygments_lexer": "ipython2",
   "version": "2.7.9"
  }
 },
 "nbformat": 4,
 "nbformat_minor": 0
}
