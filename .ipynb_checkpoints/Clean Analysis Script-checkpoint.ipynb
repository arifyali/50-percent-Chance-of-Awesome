{
 "cells": [
  {
   "cell_type": "code",
   "execution_count": 40,
   "metadata": {
    "collapsed": false
   },
   "outputs": [],
   "source": [
    "import pandas\n",
    "import numpy as np\n",
    "\n",
    "outputLog = pandas.DataFrame(index = ['file', 'column', \"data type\", 'summary', 'missing values', 'length'])\n",
    "outputLog = outputLog.transpose()\n",
    "#import enchant\n",
    "def textUncleanCounter(column):\n",
    "    count = 0\n",
    "    for words in column:\n",
    "        #found way to count upper case via this stackoverflow post\n",
    "        #http://stackoverflow.com/questions/18129830/count-the-uppercase-letters-in-a-string\n",
    "        #compared number of upper case to\n",
    "        #print(words)\n",
    "        #is.nan doesn't work for strings so I have to handle it in here\n",
    "        #http://stackoverflow.com/questions/4843173/how-to-check-if-type-of-a-variable-is-string-in-python\n",
    "        #used same logic for isinstance when dealing with unicode stuff.\n",
    "        if(isinstance(words, str) or isinstance(words, unicode)):\n",
    "            if(sum(1 for c in words if c.isupper()) == len(words.split())):\n",
    "                count += 0\n",
    "            else:\n",
    "                count += 1\n",
    "        else:\n",
    "            #print(words)\n",
    "            if(np.isnan(words)):\n",
    "                count += 1\n",
    "            else:\n",
    "                count += 0\n",
    "    return(count)\n"
   ]
  },
  {
   "cell_type": "code",
   "execution_count": 41,
   "metadata": {
    "collapsed": false
   },
   "outputs": [],
   "source": [
    "def cleaniness(filePath, outputLog, csv = True, sheet = 2):\n",
    "    T = outputLog\n",
    "    if(csv):\n",
    "        data = pandas.read_csv(filePath)\n",
    "    else:\n",
    "        #FEC data we had was in XLS format, so we had to figure out how to import XLS data \n",
    "        #http://pandas.pydata.org/pandas-docs/stable/generated/pandas.ExcelFile.parse.html\n",
    "        data = pandas.ExcelFile(filePath)\n",
    "        data = data.parse(data.sheet_names[sheet-1])\n",
    "    data.count(axis = 1)\n",
    "    for column in data.columns:\n",
    "        #Pandas sets missing values to nan so I found an answer on a stackexchange post\n",
    "        #http://stackoverflow.com/questions/26266362/how-to-count-the-nan-values-in-the-column-in-panda-data-frame\n",
    "        summary = data[column].describe()\n",
    "        print(data[column].dtype)\n",
    "        missingValue = (data[column].isnull().sum() + textUncleanCounter(data[column]))\n",
    "        print(missingValue)\n",
    "        \n",
    "        columndata = (pandas.DataFrame(data = [filePath, column,data[column].dtype, summary, missingValue, len(data[column])],index = ['file', 'column',\"data type\", 'summary', 'missing values', 'length']))\n",
    "        T = T.append(columndata.transpose())\n",
    "    return(T)"
   ]
  },
  {
   "cell_type": "code",
   "execution_count": 3,
   "metadata": {
    "collapsed": false
   },
   "outputs": [],
   "source": [
    "outputLog = outputLog.append(cleaniness(\"SP500HistoricalDataPart1.csv\", outputLog))\n",
    "#outputLog.to_csv(\"OutputLog.csv\")"
   ]
  },
  {
   "cell_type": "code",
   "execution_count": 4,
   "metadata": {
    "collapsed": false
   },
   "outputs": [],
   "source": [
    "outputLog = outputLog.append(cleaniness(\"SP500HistoricalDataPart2.csv\", outputLog))\n",
    "#outputLog.to_csv(\"OutputLog.csv\")"
   ]
  },
  {
   "cell_type": "code",
   "execution_count": 5,
   "metadata": {
    "collapsed": false
   },
   "outputs": [],
   "source": [
    "outputLog = outputLog.append(cleaniness(\"dJIndustialHistoricalData.csv\", outputLog))\n",
    "#outputLog.to_csv(\"OutputLog.csv\")"
   ]
  },
  {
   "cell_type": "code",
   "execution_count": 6,
   "metadata": {
    "collapsed": false
   },
   "outputs": [],
   "source": [
    "outputLog = outputLog.append(cleaniness(\"Sector base Indices/CBOE Gold Index.csv\", outputLog))\n",
    "#outputLog.to_csv(\"OutputLog.csv\")           "
   ]
  },
  {
   "cell_type": "code",
   "execution_count": 7,
   "metadata": {
    "collapsed": false
   },
   "outputs": [],
   "source": [
    "outputLog = outputLog.append(cleaniness(\"Sector base Indices/NASDAQ Banking Index.csv\", outputLog))\n",
    "#outputLog.to_csv(\"OutputLog.csv\")"
   ]
  },
  {
   "cell_type": "code",
   "execution_count": 8,
   "metadata": {
    "collapsed": false
   },
   "outputs": [],
   "source": [
    "outputLog = outputLog.append(cleaniness(\"Sector base Indices/NASDAQ Biotechnology Index.csv\", outputLog))\n",
    "#outputLog.to_csv(\"OutputLog.csv\")"
   ]
  },
  {
   "cell_type": "code",
   "execution_count": 9,
   "metadata": {
    "collapsed": false
   },
   "outputs": [],
   "source": [
    "outputLog = outputLog.append(cleaniness(\"Sector base Indices/NASDAQ Industrial Index.csv\", outputLog))\n",
    "#outputLog.to_csv(\"OutputLog.csv\")"
   ]
  },
  {
   "cell_type": "code",
   "execution_count": 10,
   "metadata": {
    "collapsed": false
   },
   "outputs": [],
   "source": [
    "outputLog = outputLog.append(cleaniness(\"Sector base Indices/NYSE AMEX Oil Index.csv\", outputLog))\n"
   ]
  },
  {
   "cell_type": "code",
   "execution_count": 11,
   "metadata": {
    "collapsed": true
   },
   "outputs": [],
   "source": [
    "#NaN were messing up the basic analysis, so I had replaces them with zeros\n",
    "# I found out how from the pandas developer site\n",
    "#http://pandas.pydata.org/pandas-docs/stable/missing_data.html\n",
    "nytimesTemp = pandas.read_csv(\"NYTimes2014elections.csv\").fillna('00')"
   ]
  },
  {
   "cell_type": "code",
   "execution_count": 12,
   "metadata": {
    "collapsed": false
   },
   "outputs": [],
   "source": [
    "#In order to actually evaluate the Nytimes I had to make changes to understand numeric data that was pulled as string\n",
    "#had to remove percentage sign from VotePercent columns\n",
    "#http://stackoverflow.com/questions/3559559/how-to-delete-a-character-from-a-string-using-python\n",
    "def floatConverter(column, percentSign = True): #If no percent sign then there is a comma\n",
    "    oldstr = column\n",
    "    #print(oldstr[10])\n",
    "    data = []\n",
    "    for cell in oldstr:\n",
    "        if(percentSign):\n",
    "            cellNoPercent = (cell[:-1])\n",
    "        else:\n",
    "            cellNoPercent = cell.replace(\",\", \"\")\n",
    "            #If there wasn't percent then they were whole numbers, many of which had \n",
    "        data.append(cellNoPercent)\n",
    "    #Iterating and changing to floats wasnt working, so I found a method to do it to a list post cleaning        \n",
    "    #http://stackoverflow.com/questions/4004550/converting-string-series-to-float-list-in-python\n",
    "    \n",
    "    return([float(x) for x in data])    \n",
    "    \n",
    "nytimesTemp['VotePercent1'] = floatConverter(nytimesTemp['VotePercent1'])\n",
    "nytimesTemp['VotePercent2'] = floatConverter(nytimesTemp['VotePercent2'])\n",
    "nytimesTemp['VotePercent3'] = floatConverter(nytimesTemp['VotePercent3'])\n",
    "nytimesTemp['VotePercent4'] = floatConverter(nytimesTemp['VotePercent4'])\n",
    "nytimesTemp['VotePercent5'] = floatConverter(nytimesTemp['VotePercent5'])\n",
    "nytimesTemp['VotePercent6'] = floatConverter(nytimesTemp['VotePercent6'])\n",
    "nytimesTemp['VotePercent7'] = floatConverter(nytimesTemp['VotePercent7'])\n",
    "nytimesTemp['VotePercent8'] = floatConverter(nytimesTemp['VotePercent8'])\n",
    "nytimesTemp['VotePercent9'] = floatConverter(nytimesTemp['VotePercent9'])\n",
    "nytimesTemp['VotePercent10'] = floatConverter(nytimesTemp['VotePercent10'])\n",
    "nytimesTemp['VotePercent11'] = floatConverter(nytimesTemp['VotePercent11'])\n",
    "nytimesTemp['VotePercent12'] = floatConverter(nytimesTemp['VotePercent12'])"
   ]
  },
  {
   "cell_type": "code",
   "execution_count": 13,
   "metadata": {
    "collapsed": false
   },
   "outputs": [],
   "source": [
    "nytimesTemp['Votes1'] = floatConverter(nytimesTemp['Votes1'],percentSign = False)\n",
    "nytimesTemp['Votes2'] = floatConverter(nytimesTemp['Votes2'],percentSign = False)\n",
    "nytimesTemp['Votes3'] = floatConverter(nytimesTemp['Votes3'],percentSign = False)\n",
    "nytimesTemp['Votes4'] = floatConverter(nytimesTemp['Votes4'],percentSign = False)\n",
    "nytimesTemp['Votes5'] = floatConverter(nytimesTemp['Votes5'],percentSign = False)\n",
    "nytimesTemp['Votes6'] = floatConverter(nytimesTemp['Votes6'],percentSign = False)\n",
    "nytimesTemp['Votes7'] = floatConverter(nytimesTemp['Votes7'],percentSign = False)\n",
    "nytimesTemp['Votes8'] = floatConverter(nytimesTemp['Votes8'],percentSign = False)\n",
    "nytimesTemp['Votes9'] = floatConverter(nytimesTemp['Votes9'],percentSign = False)\n",
    "nytimesTemp['Votes10'] = floatConverter(nytimesTemp['Votes10'],percentSign = False)\n",
    "nytimesTemp['Votes11'] = floatConverter(nytimesTemp['Votes11'],percentSign = False)\n",
    "nytimesTemp['Votes12'] = floatConverter(nytimesTemp['Votes12'],percentSign = False)"
   ]
  },
  {
   "cell_type": "code",
   "execution_count": 14,
   "metadata": {
    "collapsed": false
   },
   "outputs": [],
   "source": [
    "nytimesTemp = nytimesTemp.replace('0', np.nan)\n",
    "nytimesTemp = nytimesTemp.replace('00', np.nan)\n",
    "nytimesTemp = nytimesTemp.replace(0, np.nan)\n",
    "nytimesTemp.to_csv(\"nytimesTemps.csv\")"
   ]
  },
  {
   "cell_type": "code",
   "execution_count": 15,
   "metadata": {
    "collapsed": false
   },
   "outputs": [],
   "source": [
    "outputLog = outputLog.append(cleaniness(\"nytimesTemps.csv\", outputLog))"
   ]
  },
  {
   "cell_type": "code",
   "execution_count": null,
   "metadata": {
    "collapsed": false
   },
   "outputs": [],
   "source": []
  },
  {
   "cell_type": "code",
   "execution_count": 42,
   "metadata": {
    "collapsed": false
   },
   "outputs": [
    {
     "name": "stdout",
     "output_type": "stream",
     "text": [
      "float64\n",
      "0\n",
      "object\n",
      "12\n",
      "object\n",
      "3788\n",
      "object\n",
      "3355\n",
      "object\n",
      "5506\n",
      "object\n",
      "6554\n",
      "object\n",
      "3380\n",
      "object\n",
      "3050\n",
      "object\n",
      "2985\n",
      "object\n",
      "4720\n",
      "object\n",
      "1998\n",
      "object\n",
      "1143\n",
      "float64\n",
      "4486\n",
      "float64\n",
      "7462\n",
      "object\n",
      "7438\n",
      "object\n",
      "3243\n",
      "float64\n",
      "4414\n",
      "float64\n",
      "7560\n",
      "float64\n",
      "7568\n",
      "float64\n",
      "7530\n"
     ]
    },
    {
     "data": {
      "text/html": [
       "<pre>\n",
       "&ltclass 'pandas.core.frame.DataFrame'&gt\n",
       "Int64Index: 20 entries, 0 to 0\n",
       "Data columns (total 6 columns):\n",
       "file              20  non-null values\n",
       "column            20  non-null values\n",
       "data type         20  non-null values\n",
       "summary           20  non-null values\n",
       "missing values    20  non-null values\n",
       "length            20  non-null values\n",
       "dtypes: object(6)\n",
       "</pre>"
      ],
      "text/plain": [
       "                                     file                    column data type  \\\n",
       "0  FEC Elections Data/2004congresults.xls                         #   float64   \n",
       "0  FEC Elections Data/2004congresults.xls                     STATE    object   \n",
       "0  FEC Elections Data/2004congresults.xls        STATE ABBREVIATION    object   \n",
       "0  FEC Elections Data/2004congresults.xls                  DISTRICT    object   \n",
       "0  FEC Elections Data/2004congresults.xls                    FEC ID    object   \n",
       "0  FEC Elections Data/2004congresults.xls       INCUMBENT INDICATOR    object   \n",
       "0  FEC Elections Data/2004congresults.xls                FIRST NAME    object   \n",
       "0  FEC Elections Data/2004congresults.xls                 LAST NAME    object   \n",
       "0  FEC Elections Data/2004congresults.xls          LAST NAME, FIRST    object   \n",
       "0  FEC Elections Data/2004congresults.xls               TOTAL VOTES    object   \n",
       "0  FEC Elections Data/2004congresults.xls                     PARTY    object   \n",
       "0  FEC Elections Data/2004congresults.xls                   PRIMARY    object   \n",
       "0  FEC Elections Data/2004congresults.xls                 PRIMARY %   float64   \n",
       "0  FEC Elections Data/2004congresults.xls                    RUNOFF   float64   \n",
       "0  FEC Elections Data/2004congresults.xls                  RUNOFF %    object   \n",
       "0  FEC Elections Data/2004congresults.xls                   GENERAL    object   \n",
       "0  FEC Elections Data/2004congresults.xls                 GENERAL %   float64   \n",
       "0  FEC Elections Data/2004congresults.xls                 GE RUNOFF   float64   \n",
       "0  FEC Elections Data/2004congresults.xls               GE RUNOFF %   float64   \n",
       "0  FEC Elections Data/2004congresults.xls  Notes (See Endnotes Tab)   float64   \n",
       "\n",
       "                                             summary missing values length  \n",
       "0  [3788.0, 1894.5, 1093.64573789, 1.0, 947.75, 1...              0   3788  \n",
       "0                        [3788, 55, California, 415]             12   3788  \n",
       "0                                [3788, 55, CA, 415]           3788   3788  \n",
       "0                                 [3734, 60, S, 434]           3355   3788  \n",
       "0                         [2070, 1910, H8NY23084, 5]           5506   3788  \n",
       "0                                 [511, 1, (I), 511]           6554   3788  \n",
       "0                             [2116, 1195, John, 41]           3380   3788  \n",
       "0                       [2309, 1595, Scattered, 190]           3050   3788  \n",
       "0                       [2360, 1958, Scattered, 240]           2985   3788  \n",
       "0                       [1428, 6, Party Votes:, 844]           4720   3788  \n",
       "0                                [3158, 91, R, 1109]           1998   3788  \n",
       "0                       [3329, 2201, Unopposed, 214]           1143   3788  \n",
       "0  [1545.0, 0.54498381877, 0.392618176148, 8.0450...           4486   3788  \n",
       "0  [57.0, 62162.754386, 87069.9751838, 1044.0, 88...           7462   3788  \n",
       "0                    [69, 25, Combined Parties:, 45]           7438   3788  \n",
       "0                        [2167.0, 2062.0, 1.0, 15.0]           3243   3788  \n",
       "0  [1581.0, 0.311732607763, 0.293917326044, 1.659...           4414   3788  \n",
       "0  [8.0, 125592.5, 82610.406719, 57042.0, 60522.5...           7560   3788  \n",
       "0  [4.0, 0.5, 0.0405549279591, 0.450392581959, 0....           7568   3788  \n",
       "0  [23.0, 12.0, 6.78232998313, 1.0, 6.5, 12.0, 17...           7530   3788  "
      ]
     },
     "execution_count": 42,
     "metadata": {},
     "output_type": "execute_result"
    }
   ],
   "source": [
    "cleaniness(\"FEC Elections Data/2004congresults.xls\", outputLog, csv = False, sheet = 2)"
   ]
  },
  {
   "cell_type": "code",
   "execution_count": null,
   "metadata": {
    "collapsed": true
   },
   "outputs": [],
   "source": [
    "#I had a bunch of duplicating rows so I decided it would be easier to dedup. \n",
    "#It's probably costing me time but fixing function might take longer.\n",
    "#http://pandas.pydata.org/pandas-docs/stable/generated/pandas.DataFrame.drop_duplicates.html\n",
    "#http://stackoverflow.com/questions/26469551/drop-duplicates-within-a-set\n",
    "outputLog = outputLog.drop_duplicates(['file','column'])\n",
    "outputLog.to_csv(\"Cleaning Analysis output.csv\")"
   ]
  },
  {
   "cell_type": "code",
   "execution_count": 36,
   "metadata": {
    "collapsed": false
   },
   "outputs": [
    {
     "data": {
      "text/plain": [
       "True"
      ]
     },
     "execution_count": 36,
     "metadata": {},
     "output_type": "execute_result"
    }
   ],
   "source": [
    "\n"
   ]
  }
 ],
 "metadata": {
  "kernelspec": {
   "display_name": "Python 2",
   "language": "python",
   "name": "python2"
  },
  "language_info": {
   "codemirror_mode": {
    "name": "ipython",
    "version": 2
   },
   "file_extension": ".py",
   "mimetype": "text/x-python",
   "name": "python",
   "nbconvert_exporter": "python",
   "pygments_lexer": "ipython2",
   "version": "2.7.9"
  }
 },
 "nbformat": 4,
 "nbformat_minor": 0
}
