{
 "cells": [
  {
   "cell_type": "code",
   "execution_count": 4,
   "metadata": {
    "collapsed": true
   },
   "outputs": [],
   "source": [
    "import pandas\n",
    "import numpy as np"
   ]
  },
  {
   "cell_type": "code",
   "execution_count": 5,
   "metadata": {
    "collapsed": false
   },
   "outputs": [],
   "source": [
    "def cleaniness(csvPath):\n",
    "    data = pandas.read_csv(csvPath)\n",
    "    data.count(axis = 1)\n",
    "    for column in data.columns:\n",
    "        #Pandas sets missing values to nan so I found an answer on a stackexchange post\n",
    "        #http://stackoverflow.com/questions/26266362/how-to-count-the-nan-values-in-the-column-in-panda-data-frame\n",
    "        print([column, data[column].dtype], data[column].isnull().sum())\n",
    "    "
   ]
  },
  {
   "cell_type": "code",
   "execution_count": 1,
   "metadata": {
    "collapsed": false
   },
   "outputs": [],
   "source": [
    "#data = pandas.read_csv(\"SP500HistoricalDataPart1.csv\")\n",
    "#data.count(axis = 1)\n",
    "#for column in data.columns:\n",
    "#    print([column, data[column].dtype], data[column].isnull().sum())\n",
    "    "
   ]
  },
  {
   "cell_type": "code",
   "execution_count": 6,
   "metadata": {
    "collapsed": false
   },
   "outputs": [
    {
     "name": "stdout",
     "output_type": "stream",
     "text": [
      "(['Unnamed: 0', dtype('int64')], 0)\n",
      "(['Date', dtype('O')], 0)\n",
      "(['Open', dtype('float64')], 0)\n",
      "(['High', dtype('float64')], 0)\n",
      "(['Low', dtype('float64')], 0)\n",
      "(['Close', dtype('float64')], 0)\n",
      "(['Volume', dtype('float64')], 0)\n",
      "(['Adjusted Close', dtype('float64')], 0)\n",
      "(['ticker', dtype('O')], 0)\n",
      "(['Sector', dtype('O')], 0)\n",
      "(['price change', dtype('float64')], 0)\n",
      "(['percentage change', dtype('float64')], 0)\n"
     ]
    }
   ],
   "source": [
    "cleaniness(\"SP500HistoricalDataPart1.csv\")"
   ]
  }
 ],
 "metadata": {
  "kernelspec": {
   "display_name": "Python 2",
   "language": "python",
   "name": "python2"
  },
  "language_info": {
   "codemirror_mode": {
    "name": "ipython",
    "version": 2
   },
   "file_extension": ".py",
   "mimetype": "text/x-python",
   "name": "python",
   "nbconvert_exporter": "python",
   "pygments_lexer": "ipython2",
   "version": "2.7.9"
  }
 },
 "nbformat": 4,
 "nbformat_minor": 0
}
