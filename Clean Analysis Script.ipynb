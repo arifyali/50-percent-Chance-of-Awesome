{
 "cells": [
  {
   "cell_type": "code",
   "execution_count": 1,
   "metadata": {
    "collapsed": false
   },
   "outputs": [],
   "source": [
    "import pandas\n",
    "import numpy as np\n",
    "#To check if words exists in the english language I found this package on stackoverflow\n",
    "#http://stackoverflow.com/questions/3788870/how-to-check-if-a-word-is-an-english-word-with-python\n",
    "#http://pythonhosted.org/pyenchant/\n",
    "outputLog = pandas.DataFrame(index = ['file', 'column', \"data type\", 'summary', 'missing values'])\n",
    "outputLog = outputLog.transpose()\n",
    "#import enchant"
   ]
  },
  {
   "cell_type": "code",
   "execution_count": 2,
   "metadata": {
    "collapsed": false
   },
   "outputs": [],
   "source": [
    "def cleaniness(filePath, outputLog, csv = True):\n",
    "    T = outputLog\n",
    "    if(csv):\n",
    "        data = pandas.read_csv(filePath)\n",
    "    else:\n",
    "        data = pandas.read_table(filePath)\n",
    "    data.count(axis = 1)\n",
    "    for column in data.columns:\n",
    "        #Pandas sets missing values to nan so I found an answer on a stackexchange post\n",
    "        #http://stackoverflow.com/questions/26266362/how-to-count-the-nan-values-in-the-column-in-panda-data-frame\n",
    "        summary = data[column].describe()\n",
    "        missingValue = data[column].isnull().sum()/len(data[column])\n",
    "        columndata = (pandas.DataFrame(data = [filePath, column,data[column].dtype, summary, missingValue],index = ['file', 'column',\"data type\", 'summary', 'missing values']))\n",
    "        T = T.append(columndata.transpose())\n",
    "    return(T)"
   ]
  },
  {
   "cell_type": "code",
   "execution_count": 19,
   "metadata": {
    "collapsed": false
   },
   "outputs": [],
   "source": [
    "outputLog = outputLog.append(cleaniness(\"SP500HistoricalDataPart1.csv\", outputLog))\n",
    "#outputLog.to_csv(\"OutputLog.csv\")"
   ]
  },
  {
   "cell_type": "code",
   "execution_count": 20,
   "metadata": {
    "collapsed": false
   },
   "outputs": [],
   "source": [
    "outputLog = outputLog.append(cleaniness(\"SP500HistoricalDataPart2.csv\", outputLog))\n",
    "#outputLog.to_csv(\"OutputLog.csv\")"
   ]
  },
  {
   "cell_type": "code",
   "execution_count": 21,
   "metadata": {
    "collapsed": false
   },
   "outputs": [],
   "source": [
    "outputLog = outputLog.append(cleaniness(\"dJIndustialHistoricalData.csv\", outputLog))\n",
    "#outputLog.to_csv(\"OutputLog.csv\")"
   ]
  },
  {
   "cell_type": "code",
   "execution_count": 22,
   "metadata": {
    "collapsed": false
   },
   "outputs": [],
   "source": [
    "outputLog = outputLog.append(cleaniness(\"Sector base Indices/CBOE Gold Index.csv\", outputLog))\n",
    "#outputLog.to_csv(\"OutputLog.csv\")           "
   ]
  },
  {
   "cell_type": "code",
   "execution_count": 23,
   "metadata": {
    "collapsed": false
   },
   "outputs": [],
   "source": [
    "outputLog = outputLog.append(cleaniness(\"Sector base Indices/NASDAQ Banking Index.csv\", outputLog))\n",
    "#outputLog.to_csv(\"OutputLog.csv\")"
   ]
  },
  {
   "cell_type": "code",
   "execution_count": 24,
   "metadata": {
    "collapsed": false
   },
   "outputs": [],
   "source": [
    "outputLog = outputLog.append(cleaniness(\"Sector base Indices/NASDAQ Biotechnology Index.csv\", outputLog))\n",
    "#outputLog.to_csv(\"OutputLog.csv\")"
   ]
  },
  {
   "cell_type": "code",
   "execution_count": 25,
   "metadata": {
    "collapsed": false
   },
   "outputs": [],
   "source": [
    "outputLog = outputLog.append(cleaniness(\"Sector base Indices/NASDAQ Industrial Index.csv\", outputLog))\n",
    "#outputLog.to_csv(\"OutputLog.csv\")"
   ]
  },
  {
   "cell_type": "code",
   "execution_count": 26,
   "metadata": {
    "collapsed": false
   },
   "outputs": [],
   "source": [
    "outputLog = outputLog.append(cleaniness(\"Sector base Indices/NYSE AMEX Oil Index.csv\", outputLog))\n",
    "#I had a bunch of duplicating rows so I decided it would be easier to dedup. \n",
    "#It's probably costing me time but fixing function might take longer.\n",
    "#http://pandas.pydata.org/pandas-docs/stable/generated/pandas.DataFrame.drop_duplicates.html\n",
    "#http://stackoverflow.com/questions/26469551/drop-duplicates-within-a-set"
   ]
  },
  {
   "cell_type": "code",
   "execution_count": 29,
   "metadata": {
    "collapsed": false
   },
   "outputs": [
    {
     "data": {
      "text/plain": [
       "0         0\n",
       "1     68.3%\n",
       "2     66.1%\n",
       "3     65.6%\n",
       "4         0\n",
       "5     74.8%\n",
       "6     76.3%\n",
       "7         0\n",
       "8     48.8%\n",
       "9     51.6%\n",
       "10    52.5%\n",
       "11    50.0%\n",
       "12    55.6%\n",
       "13    70.0%\n",
       "14    69.6%\n",
       "...\n",
       "456    54.6%\n",
       "457    62.1%\n",
       "458    64.0%\n",
       "459    47.1%\n",
       "460    55.3%\n",
       "461    63.3%\n",
       "462    68.5%\n",
       "463    56.7%\n",
       "464    70.3%\n",
       "465    69.5%\n",
       "466    56.8%\n",
       "467    59.2%\n",
       "468    65.1%\n",
       "469    72.3%\n",
       "470    68.5%\n",
       "Name: VotePercent1, Length: 471, dtype: object"
      ]
     },
     "execution_count": 29,
     "metadata": {},
     "output_type": "execute_result"
    }
   ],
   "source": [
    "#NaN were messing up the basic analysis, so I had replaces them with zeros\n",
    "nytimesTemp = pandas.read_csv(\"NYTimes2014elections.csv\").fillna('0')\n"
   ]
  },
  {
   "cell_type": "code",
   "execution_count": 30,
   "metadata": {
    "collapsed": true
   },
   "outputs": [],
   "source": [
    "outputLog = outputLog.drop_duplicates(['file','column'])\n",
    "outputLog.to_csv(\"Cleaning Analysis output.csv\")"
   ]
  },
  {
   "cell_type": "code",
   "execution_count": 31,
   "metadata": {
    "collapsed": true
   },
   "outputs": [],
   "source": [
    "aa.to_csv(\"NYT Cleaning Analysis.csv\")"
   ]
  },
  {
   "cell_type": "code",
   "execution_count": 32,
   "metadata": {
    "collapsed": false
   },
   "outputs": [
    {
     "data": {
      "text/plain": [
       "str"
      ]
     },
     "execution_count": 32,
     "metadata": {},
     "output_type": "execute_result"
    }
   ],
   "source": [
    "type(aa['VotePercent1'][1])"
   ]
  },
  {
   "cell_type": "code",
   "execution_count": 34,
   "metadata": {
    "collapsed": false
   },
   "outputs": [
    {
     "data": {
      "text/plain": [
       "0         0\n",
       "1     68.3%\n",
       "2     66.1%\n",
       "3     65.6%\n",
       "4         0\n",
       "5     74.8%\n",
       "6     76.3%\n",
       "7         0\n",
       "8     48.8%\n",
       "9     51.6%\n",
       "10    52.5%\n",
       "11    50.0%\n",
       "12    55.6%\n",
       "13    70.0%\n",
       "14    69.6%\n",
       "...\n",
       "456    54.6%\n",
       "457    62.1%\n",
       "458    64.0%\n",
       "459    47.1%\n",
       "460    55.3%\n",
       "461    63.3%\n",
       "462    68.5%\n",
       "463    56.7%\n",
       "464    70.3%\n",
       "465    69.5%\n",
       "466    56.8%\n",
       "467    59.2%\n",
       "468    65.1%\n",
       "469    72.3%\n",
       "470    68.5%\n",
       "Name: VotePercent1, Length: 471, dtype: object"
      ]
     },
     "execution_count": 34,
     "metadata": {},
     "output_type": "execute_result"
    }
   ],
   "source": [
    "#had to remove percentage sign from VotePercent columns\n",
    "#http://stackoverflow.com/questions/3559559/how-to-delete-a-character-from-a-string-using-python\n",
    "oldstr = nytimesTemp['VotePercent1']\n",
    "oldstr.replace(\"%\",\"\")\n",
    "\n",
    "\n",
    "    "
   ]
  }
 ],
 "metadata": {
  "kernelspec": {
   "display_name": "Python 2",
   "language": "python",
   "name": "python2"
  },
  "language_info": {
   "codemirror_mode": {
    "name": "ipython",
    "version": 2
   },
   "file_extension": ".py",
   "mimetype": "text/x-python",
   "name": "python",
   "nbconvert_exporter": "python",
   "pygments_lexer": "ipython2",
   "version": "2.7.9"
  }
 },
 "nbformat": 4,
 "nbformat_minor": 0
}
