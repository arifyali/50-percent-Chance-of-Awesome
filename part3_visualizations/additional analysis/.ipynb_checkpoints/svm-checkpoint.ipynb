{
 "cells": [
  {
   "cell_type": "code",
   "execution_count": 1,
   "metadata": {
    "collapsed": false
   },
   "outputs": [],
   "source": [
    "library(e1071)"
   ]
  },
  {
   "cell_type": "code",
   "execution_count": 2,
   "metadata": {
    "collapsed": false
   },
   "outputs": [],
   "source": [
    "political_data <- read.csv(\"~/Documents/Analytics 501 Fall 2015/50-percent-Chance-of-Awesome/part2_exploratory_analysis/Datasets/PoldataSPIndustriesStockData no outliers.csv\")\n",
    "political_data = political_data[order(political_data$INDRANK, decreasing = T),]\n",
    "Logit_pol_data = political_data[!duplicated(political_data[,c(\"STATE\", \"DISTRICT\", \"CANDIDATE\", \"YEAR\")]),]"
   ]
  },
  {
   "cell_type": "code",
   "execution_count": 3,
   "metadata": {
    "collapsed": false
   },
   "outputs": [
    {
     "data": {
      "text/html": [
       "<table>\n",
       "<thead><tr><th></th><th scope=col>OPENSECRETS.INDUSTRY</th><th scope=col>YEAR</th><th scope=col>STATE</th><th scope=col>FIRST</th><th scope=col>LAST</th><th scope=col>DISTRICT</th><th scope=col>CANDIDATE</th><th scope=col>PARTY</th><th scope=col>AMOUNT</th><th scope=col>INDUSTRYPERCENT</th><th scope=col>ellip.h</th><th scope=col>RaceFundPerc</th><th scope=col>CANDTOTALLEVEL</th><th scope=col>VOTESLEVEL</th><th scope=col>INDRANK</th><th scope=col>X</th><th scope=col>Sector</th><th scope=col>AdjClose</th><th scope=col>Group</th><th scope=col>YrPercentChange</th><th scope=col>RelYear</th></tr></thead>\n",
       "<tbody>\n",
       "\t<tr><th scope=row>5101</th><td>Oil & Gas</td><td>2006</td><td>PA</td><td>JOE</td><td>PITTS</td><td>16</td><td>JOE PITTS</td><td>R</td><td>7000</td><td>0.01954172</td><td>⋯</td><td>0.6746333</td><td>Very Low</td><td>Mid-Low</td><td>12</td><td>33</td><td>Energy</td><td>1067.548</td><td>Values0708b</td><td>-0.2080566</td><td>2006</td></tr>\n",
       "\t<tr><th scope=row>244</th><td>Hospitals/Nursing Homes</td><td>2004</td><td>CA</td><td>GEORGE</td><td>RADANOVICH</td><td>19</td><td>GEORGE RADANOVICH</td><td>R</td><td>11000</td><td>0.02380231</td><td>⋯</td><td>1</td><td>Mid-Low</td><td>Mid-High</td><td>11</td><td>15</td><td>Health Care</td><td>1854.677</td><td>Values0506b</td><td>0.20839</td><td>2004</td></tr>\n",
       "\t<tr><th scope=row>1168</th><td>Oil & Gas</td><td>2004</td><td>IN</td><td>STEVE</td><td>BUYER</td><td>4</td><td>STEVE BUYER</td><td>R</td><td>10290</td><td>0.02344749</td><td>⋯</td><td>0.9925365</td><td>Mid-Low</td><td>Mid-High</td><td>11</td><td>13</td><td>Energy</td><td>1348.011</td><td>Values0506b</td><td>0.6285284</td><td>2004</td></tr>\n",
       "\t<tr><th scope=row>1250</th><td>Mining</td><td>2004</td><td>KY</td><td>ED</td><td>WHITFIELD</td><td>1</td><td>ED WHITFIELD</td><td>R</td><td>15250</td><td>0.02957289</td><td>⋯</td><td>1</td><td>Mid-Low</td><td>Mid-High</td><td>11</td><td>18</td><td>Materials</td><td>994.3476</td><td>Values0506b</td><td>0.3038042</td><td>2004</td></tr>\n",
       "\t<tr><th scope=row>1375</th><td>Misc Business</td><td>2004</td><td>LA</td><td>DONALD</td><td>CRAVINS</td><td>7</td><td>DONALD RAY CRAVINS SR</td><td>D</td><td>1500</td><td>0.01252087</td><td>⋯</td><td>0.0389546</td><td>Very Low</td><td>Very Low</td><td>11</td><td>18</td><td>Materials</td><td>994.3476</td><td>Values0506b</td><td>0.3038042</td><td>2004</td></tr>\n",
       "\t<tr><th scope=row>1821</th><td>Hospitals/Nursing Homes</td><td>2004</td><td>MS</td><td>ROGER</td><td>WICKER</td><td>1</td><td>ROGER WICKER</td><td>R</td><td>11000</td><td>0.03408665</td><td>⋯</td><td>1</td><td>Very Low</td><td>High</td><td>11</td><td>15</td><td>Health Care</td><td>1854.677</td><td>Values0506b</td><td>0.20839</td><td>2004</td></tr>\n",
       "\t<tr><th scope=row>1839</th><td>Forestry & Forest Products</td><td>2004</td><td>MS</td><td>CHARLES</td><td>PICKERING</td><td>3</td><td>CHARLES W CHIP PICKERING JR</td><td>R</td><td>13000</td><td>0.02227232</td><td>⋯</td><td>1</td><td>Mid-Low</td><td>High</td><td>11</td><td>18</td><td>Materials</td><td>994.3476</td><td>Values0506b</td><td>0.3038042</td><td>2004</td></tr>\n",
       "\t<tr><th scope=row>2494</th><td>Food Processing & Sales</td><td>2004</td><td>OH</td><td>PAUL</td><td>GILLMOR</td><td>5</td><td>PAUL E GILLMOR</td><td>R</td><td>4826</td><td>0.0159533</td><td>⋯</td><td>0.9141755</td><td>Very Low</td><td>High</td><td>11</td><td>12</td><td>Consumer Staples</td><td>954.2497</td><td>Values0506b</td><td>0.1607139</td><td>2004</td></tr>\n",
       "\t<tr><th scope=row>3644</th><td>Hospitals/Nursing Homes</td><td>2006</td><td>CA</td><td>GEORGE</td><td>RADANOVICH</td><td>19</td><td>GEORGE RADANOVICH</td><td>R</td><td>15700</td><td>0.02387277</td><td>⋯</td><td>0.806049</td><td>Mid-Low</td><td>Mid-Low</td><td>11</td><td>35</td><td>Health Care</td><td>1537.861</td><td>Values0708b</td><td>-0.1708203</td><td>2006</td></tr>\n",
       "\t<tr><th scope=row>4285</th><td>Misc Business</td><td>2006</td><td>KY</td><td>ED</td><td>WHITFIELD</td><td>1</td><td>ED WHITFIELD</td><td>R</td><td>14550</td><td>0.02129269</td><td>⋯</td><td>0.9199012</td><td>Mid-Low</td><td>Mid-Low</td><td>11</td><td>38</td><td>Materials</td><td>832.9585</td><td>Values0708b</td><td>-0.1662895</td><td>2006</td></tr>\n",
       "</tbody>\n",
       "</table>\n"
      ],
      "text/latex": [
       "\\begin{tabular}{r|llllllllllllllllllllllllllllll}\n",
       "  & OPENSECRETS.INDUSTRY & YEAR & STATE & FIRST & LAST & DISTRICT & CANDIDATE & PARTY & AMOUNT & INDUSTRYPERCENT & ellip.h & RaceFundPerc & CANDTOTALLEVEL & VOTESLEVEL & INDRANK & X & Sector & AdjClose & Group & YrPercentChange & RelYear\\\\\n",
       "\\hline\n",
       "\t5101 & Oil & Gas & 2006 & PA & JOE & PITTS & 16 & JOE PITTS & R & 7000 & 0.01954172 & ⋯ & 0.6746333 & Very Low & Mid-Low & 12 & 33 & Energy & 1067.548 & Values0708b & -0.2080566 & 2006\\\\\n",
       "\t244 & Hospitals/Nursing Homes & 2004 & CA & GEORGE & RADANOVICH & 19 & GEORGE RADANOVICH & R & 11000 & 0.02380231 & ⋯ & 1 & Mid-Low & Mid-High & 11 & 15 & Health Care & 1854.677 & Values0506b & 0.20839 & 2004\\\\\n",
       "\t1168 & Oil & Gas & 2004 & IN & STEVE & BUYER & 4 & STEVE BUYER & R & 10290 & 0.02344749 & ⋯ & 0.9925365 & Mid-Low & Mid-High & 11 & 13 & Energy & 1348.011 & Values0506b & 0.6285284 & 2004\\\\\n",
       "\t1250 & Mining & 2004 & KY & ED & WHITFIELD & 1 & ED WHITFIELD & R & 15250 & 0.02957289 & ⋯ & 1 & Mid-Low & Mid-High & 11 & 18 & Materials & 994.3476 & Values0506b & 0.3038042 & 2004\\\\\n",
       "\t1375 & Misc Business & 2004 & LA & DONALD & CRAVINS & 7 & DONALD RAY CRAVINS SR & D & 1500 & 0.01252087 & ⋯ & 0.0389546 & Very Low & Very Low & 11 & 18 & Materials & 994.3476 & Values0506b & 0.3038042 & 2004\\\\\n",
       "\t1821 & Hospitals/Nursing Homes & 2004 & MS & ROGER & WICKER & 1 & ROGER WICKER & R & 11000 & 0.03408665 & ⋯ & 1 & Very Low & High & 11 & 15 & Health Care & 1854.677 & Values0506b & 0.20839 & 2004\\\\\n",
       "\t1839 & Forestry & Forest Products & 2004 & MS & CHARLES & PICKERING & 3 & CHARLES W CHIP PICKERING JR & R & 13000 & 0.02227232 & ⋯ & 1 & Mid-Low & High & 11 & 18 & Materials & 994.3476 & Values0506b & 0.3038042 & 2004\\\\\n",
       "\t2494 & Food Processing & Sales & 2004 & OH & PAUL & GILLMOR & 5 & PAUL E GILLMOR & R & 4826 & 0.0159533 & ⋯ & 0.9141755 & Very Low & High & 11 & 12 & Consumer Staples & 954.2497 & Values0506b & 0.1607139 & 2004\\\\\n",
       "\t3644 & Hospitals/Nursing Homes & 2006 & CA & GEORGE & RADANOVICH & 19 & GEORGE RADANOVICH & R & 15700 & 0.02387277 & ⋯ & 0.806049 & Mid-Low & Mid-Low & 11 & 35 & Health Care & 1537.861 & Values0708b & -0.1708203 & 2006\\\\\n",
       "\t4285 & Misc Business & 2006 & KY & ED & WHITFIELD & 1 & ED WHITFIELD & R & 14550 & 0.02129269 & ⋯ & 0.9199012 & Mid-Low & Mid-Low & 11 & 38 & Materials & 832.9585 & Values0708b & -0.1662895 & 2006\\\\\n",
       "\\end{tabular}\n"
      ],
      "text/plain": [
       "           OPENSECRETS.INDUSTRY YEAR STATE   FIRST       LAST DISTRICT\n",
       "5101                  Oil & Gas 2006    PA     JOE      PITTS       16\n",
       "244     Hospitals/Nursing Homes 2004    CA  GEORGE RADANOVICH       19\n",
       "1168                  Oil & Gas 2004    IN   STEVE      BUYER        4\n",
       "1250                     Mining 2004    KY      ED  WHITFIELD        1\n",
       "1375              Misc Business 2004    LA  DONALD    CRAVINS        7\n",
       "1821    Hospitals/Nursing Homes 2004    MS   ROGER     WICKER        1\n",
       "1839 Forestry & Forest Products 2004    MS CHARLES  PICKERING        3\n",
       "2494    Food Processing & Sales 2004    OH    PAUL    GILLMOR        5\n",
       "3644    Hospitals/Nursing Homes 2006    CA  GEORGE RADANOVICH       19\n",
       "4285              Misc Business 2006    KY      ED  WHITFIELD        1\n",
       "                       CANDIDATE PARTY AMOUNT INDUSTRYPERCENT CANDTOTAL\n",
       "5101                   JOE PITTS     R   7000      0.01954172    358208\n",
       "244            GEORGE RADANOVICH     R  11000      0.02380231    462140\n",
       "1168                 STEVE BUYER     R  10290      0.02344749    438853\n",
       "1250                ED WHITFIELD     R  15250      0.02957289    515675\n",
       "1375       DONALD RAY CRAVINS SR     D   1500      0.01252087    119800\n",
       "1821                ROGER WICKER     R  11000      0.03408665    322707\n",
       "1839 CHARLES W CHIP PICKERING JR     R  13000      0.02227232    583684\n",
       "2494              PAUL E GILLMOR     R   4826      0.01595330    302508\n",
       "3644           GEORGE RADANOVICH     R  15700      0.02387277    657653\n",
       "4285                ED WHITFIELD     R  14550      0.02129269    683333\n",
       "     INCUMBENT  VOTES PERCENT PRIMARY.INDUSTRY    SECONDARY.INDUSTRY1\n",
       "5101         1 115741  0.5655           Energy                       \n",
       "244          1 155354  0.6603      Health Care                       \n",
       "1168         1 190445  0.6947           Energy                       \n",
       "1250         1 175972  0.6732        Materials                       \n",
       "1375         0  67389  0.2460        Materials Consumer Discretionary\n",
       "1821         1 219328  0.7901      Health Care                       \n",
       "1839         1 234874  0.8006        Materials                       \n",
       "2494         1 196649  0.6705 Consumer Staples                       \n",
       "3644         1 110246  0.6058      Health Care                       \n",
       "4285         1 123618  0.5958        Materials Consumer Discretionary\n",
       "     SECONDARY.INDUSTRY2 SECONDARY.INDUSTRY3 WINNER TotalRaceFunds RaceFundPerc\n",
       "5101                                              1         530967    0.6746333\n",
       "244                                               1         462140    1.0000000\n",
       "1168                                              1         442153    0.9925365\n",
       "1250                                              1         515675    1.0000000\n",
       "1375    Consumer Staples         Industrials      0        3075375    0.0389546\n",
       "1821                                              1         322707    1.0000000\n",
       "1839                                              1         583684    1.0000000\n",
       "2494                                              1         330908    0.9141755\n",
       "3644                                              1         815897    0.8060490\n",
       "4285    Consumer Staples         Industrials      1         742833    0.9199012\n",
       "     CANDTOTALLEVEL VOTESLEVEL INDRANK  X           Sector  AdjClose\n",
       "5101       Very Low    Mid-Low      12 33           Energy 1067.5480\n",
       "244         Mid-Low   Mid-High      11 15      Health Care 1854.6770\n",
       "1168        Mid-Low   Mid-High      11 13           Energy 1348.0105\n",
       "1250        Mid-Low   Mid-High      11 18        Materials  994.3476\n",
       "1375       Very Low   Very Low      11 18        Materials  994.3476\n",
       "1821       Very Low       High      11 15      Health Care 1854.6770\n",
       "1839        Mid-Low       High      11 18        Materials  994.3476\n",
       "2494       Very Low       High      11 12 Consumer Staples  954.2497\n",
       "3644        Mid-Low    Mid-Low      11 35      Health Care 1537.8606\n",
       "4285        Mid-Low    Mid-Low      11 38        Materials  832.9585\n",
       "           Group YrPercentChange RelYear\n",
       "5101 Values0708b      -0.2080566    2006\n",
       "244  Values0506b       0.2083900    2004\n",
       "1168 Values0506b       0.6285284    2004\n",
       "1250 Values0506b       0.3038042    2004\n",
       "1375 Values0506b       0.3038042    2004\n",
       "1821 Values0506b       0.2083900    2004\n",
       "1839 Values0506b       0.3038042    2004\n",
       "2494 Values0506b       0.1607139    2004\n",
       "3644 Values0708b      -0.1708203    2006\n",
       "4285 Values0708b      -0.1662895    2006"
      ]
     },
     "execution_count": 3,
     "metadata": {},
     "output_type": "execute_result"
    }
   ],
   "source": [
    "Logit_pol_data[1:10,]"
   ]
  },
  {
   "cell_type": "code",
   "execution_count": null,
   "metadata": {
    "collapsed": true
   },
   "outputs": [],
   "source": []
  }
 ],
 "metadata": {
  "kernelspec": {
   "display_name": "R",
   "language": "R",
   "name": "ir"
  },
  "language_info": {
   "codemirror_mode": "r",
   "file_extension": ".r",
   "mimetype": "text/x-r-source",
   "name": "R",
   "pygments_lexer": "r",
   "version": "3.2.2"
  }
 },
 "nbformat": 4,
 "nbformat_minor": 0
}
